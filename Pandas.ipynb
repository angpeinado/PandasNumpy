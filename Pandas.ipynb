{
 "cells": [
  {
   "cell_type": "markdown",
   "metadata": {},
   "source": [
    "### Pandas Series"
   ]
  },
  {
   "cell_type": "code",
   "execution_count": 2,
   "metadata": {},
   "outputs": [
    {
     "data": {
      "text/plain": [
       "eggs       30\n",
       "apples      6\n",
       "milk      Yes\n",
       "bread      No\n",
       "dtype: object"
      ]
     },
     "execution_count": 2,
     "metadata": {},
     "output_type": "execute_result"
    }
   ],
   "source": [
    "# We import Pandas as pd into Python\n",
    "import pandas as pd\n",
    "\n",
    "# We create a Pandas Series that stores a grocery list\n",
    "groceries = pd.Series(data = [30, 6, 'Yes', 'No'], index = ['eggs', 'apples', 'milk', 'bread'])\n",
    "\n",
    "# We display the Groceries Pandas Series\n",
    "groceries"
   ]
  },
  {
   "cell_type": "code",
   "execution_count": 4,
   "metadata": {},
   "outputs": [
    {
     "data": {
      "text/plain": [
       "(4,)"
      ]
     },
     "execution_count": 4,
     "metadata": {},
     "output_type": "execute_result"
    }
   ],
   "source": [
    "groceries.shape\n",
    "#groceries.ndim"
   ]
  },
  {
   "cell_type": "code",
   "execution_count": 6,
   "metadata": {},
   "outputs": [
    {
     "name": "stdout",
     "output_type": "stream",
     "text": [
      "False is in not in groceries\n",
      "True is in groceries\n"
     ]
    }
   ],
   "source": [
    "x='banana' in groceries\n",
    "y='bread' in groceries\n",
    "print(x, 'is in not in groceries')\n",
    "print(y, 'is in groceries')"
   ]
  },
  {
   "cell_type": "markdown",
   "metadata": {},
   "source": [
    "###### Accesing and Deleting"
   ]
  },
  {
   "cell_type": "code",
   "execution_count": 8,
   "metadata": {},
   "outputs": [
    {
     "data": {
      "text/plain": [
       "30"
      ]
     },
     "execution_count": 8,
     "metadata": {},
     "output_type": "execute_result"
    }
   ],
   "source": [
    "groceries['eggs']"
   ]
  },
  {
   "cell_type": "code",
   "execution_count": 9,
   "metadata": {},
   "outputs": [
    {
     "data": {
      "text/plain": [
       "30"
      ]
     },
     "execution_count": 9,
     "metadata": {},
     "output_type": "execute_result"
    }
   ],
   "source": [
    "groceries[0]"
   ]
  },
  {
   "cell_type": "code",
   "execution_count": 10,
   "metadata": {},
   "outputs": [
    {
     "data": {
      "text/plain": [
       "eggs      30\n",
       "apples     6\n",
       "dtype: object"
      ]
     },
     "execution_count": 10,
     "metadata": {},
     "output_type": "execute_result"
    }
   ],
   "source": [
    "groceries[[0,1]]"
   ]
  },
  {
   "cell_type": "code",
   "execution_count": 11,
   "metadata": {},
   "outputs": [
    {
     "data": {
      "text/plain": [
       "eggs        2\n",
       "apples      6\n",
       "milk      Yes\n",
       "bread      No\n",
       "dtype: object"
      ]
     },
     "execution_count": 11,
     "metadata": {},
     "output_type": "execute_result"
    }
   ],
   "source": [
    "groceries['eggs']=2\n",
    "groceries"
   ]
  },
  {
   "cell_type": "code",
   "execution_count": 14,
   "metadata": {},
   "outputs": [
    {
     "data": {
      "text/plain": [
       "eggs       2\n",
       "milk     Yes\n",
       "bread     No\n",
       "dtype: object"
      ]
     },
     "execution_count": 14,
     "metadata": {},
     "output_type": "execute_result"
    }
   ],
   "source": [
    "groceries.drop('apples')"
   ]
  },
  {
   "cell_type": "code",
   "execution_count": 16,
   "metadata": {},
   "outputs": [
    {
     "data": {
      "text/plain": [
       "milk     Yes\n",
       "bread     No\n",
       "dtype: object"
      ]
     },
     "execution_count": 16,
     "metadata": {},
     "output_type": "execute_result"
    }
   ],
   "source": [
    "groceries[[2,3]]"
   ]
  },
  {
   "cell_type": "markdown",
   "metadata": {},
   "source": [
    "###### Operations"
   ]
  },
  {
   "cell_type": "code",
   "execution_count": 17,
   "metadata": {},
   "outputs": [
    {
     "data": {
      "text/plain": [
       "apples     10\n",
       "oranges     6\n",
       "bananas     3\n",
       "dtype: int64"
      ]
     },
     "execution_count": 17,
     "metadata": {},
     "output_type": "execute_result"
    }
   ],
   "source": [
    "# We create a Pandas Series that stores a grocery list of just fruits\n",
    "fruits= pd.Series(data = [10, 6, 3,], index = ['apples', 'oranges', 'bananas'])\n",
    "\n",
    "# We display the fruits Pandas Series\n",
    "fruits\n"
   ]
  },
  {
   "cell_type": "code",
   "execution_count": 18,
   "metadata": {},
   "outputs": [
    {
     "name": "stdout",
     "output_type": "stream",
     "text": [
      "Original grocery list of fruits:\n",
      "  apples     10\n",
      "oranges     6\n",
      "bananas     3\n",
      "dtype: int64\n",
      "\n",
      "fruits + 2:\n",
      " apples     12\n",
      "oranges     8\n",
      "bananas     5\n",
      "dtype: int64\n",
      "\n",
      "fruits - 2:\n",
      " apples     8\n",
      "oranges    4\n",
      "bananas    1\n",
      "dtype: int64\n",
      "\n",
      "fruits * 2:\n",
      " apples     20\n",
      "oranges    12\n",
      "bananas     6\n",
      "dtype: int64\n",
      "\n",
      "fruits / 2:\n",
      " apples     5.0\n",
      "oranges    3.0\n",
      "bananas    1.5\n",
      "dtype: float64\n",
      "\n"
     ]
    }
   ],
   "source": [
    "# We print fruits for reference\n",
    "print('Original grocery list of fruits:\\n ', fruits)\n",
    "\n",
    "# We perform basic element-wise operations using arithmetic symbols\n",
    "print()\n",
    "print('fruits + 2:\\n', fruits + 2) # We add 2 to each item in fruits\n",
    "print()\n",
    "print('fruits - 2:\\n', fruits - 2) # We subtract 2 to each item in fruits\n",
    "print()\n",
    "print('fruits * 2:\\n', fruits * 2) # We multiply each item in fruits by 2 \n",
    "print()\n",
    "print('fruits / 2:\\n', fruits / 2) # We divide each item in fruits by 2\n",
    "print()"
   ]
  },
  {
   "cell_type": "code",
   "execution_count": 19,
   "metadata": {},
   "outputs": [
    {
     "name": "stdout",
     "output_type": "stream",
     "text": [
      "Original grocery list of fruits:\n",
      " apples     10\n",
      "oranges     6\n",
      "bananas     3\n",
      "dtype: int64\n",
      "\n",
      "EXP(X) = \n",
      " apples     22026.465795\n",
      "oranges      403.428793\n",
      "bananas       20.085537\n",
      "dtype: float64\n",
      "\n",
      "SQRT(X) =\n",
      " apples     3.162278\n",
      "oranges    2.449490\n",
      "bananas    1.732051\n",
      "dtype: float64\n",
      "\n",
      "POW(X,2) =\n",
      " apples     100\n",
      "oranges     36\n",
      "bananas      9\n",
      "dtype: int64\n"
     ]
    }
   ],
   "source": [
    "# We import NumPy as np to be able to use the mathematical functions\n",
    "import numpy as np\n",
    "\n",
    "# We print fruits for reference\n",
    "print('Original grocery list of fruits:\\n', fruits)\n",
    "\n",
    "# We apply different mathematical functions to all elements of fruits\n",
    "print()\n",
    "print('EXP(X) = \\n', np.exp(fruits))\n",
    "print() \n",
    "print('SQRT(X) =\\n', np.sqrt(fruits))\n",
    "print()\n",
    "print('POW(X,2) =\\n',np.power(fruits,2)) # We raise all elements of fruits to the power of 2"
   ]
  },
  {
   "cell_type": "code",
   "execution_count": 20,
   "metadata": {},
   "outputs": [
    {
     "name": "stdout",
     "output_type": "stream",
     "text": [
      "Original grocery list of fruits:\n",
      "  apples     10\n",
      "oranges     6\n",
      "bananas     3\n",
      "dtype: int64\n",
      "\n",
      "Amount of bananas + 2 =  5\n",
      "\n",
      "Amount of apples - 2 =  8\n",
      "\n",
      "We double the amount of apples and oranges:\n",
      " apples     20\n",
      "oranges    12\n",
      "dtype: int64\n",
      "\n",
      "We half the amount of apples and oranges:\n",
      " apples     5.0\n",
      "oranges    3.0\n",
      "dtype: float64\n"
     ]
    }
   ],
   "source": [
    "# We print fruits for reference\n",
    "print('Original grocery list of fruits:\\n ', fruits)\n",
    "print()\n",
    "\n",
    "# We add 2 only to the bananas\n",
    "print('Amount of bananas + 2 = ', fruits['bananas'] + 2)\n",
    "print()\n",
    "\n",
    "# We subtract 2 from apples\n",
    "print('Amount of apples - 2 = ', fruits.iloc[0] - 2)\n",
    "print()\n",
    "\n",
    "# We multiply apples and oranges by 2\n",
    "print('We double the amount of apples and oranges:\\n', fruits[['apples', 'oranges']] * 2)\n",
    "print()\n",
    "\n",
    "# We divide apples and oranges by 2\n",
    "print('We half the amount of apples and oranges:\\n', fruits.loc[['apples', 'oranges']] / 2)"
   ]
  },
  {
   "cell_type": "markdown",
   "metadata": {},
   "source": [
    "###### Ejercicio \"Sun Planets\""
   ]
  },
  {
   "cell_type": "code",
   "execution_count": 31,
   "metadata": {},
   "outputs": [
    {
     "name": "stdout",
     "output_type": "stream",
     "text": [
      "Earth     8.311111\n",
      "Mars     12.661111\n",
      "Venus     6.011111\n",
      "dtype: float64\n"
     ]
    }
   ],
   "source": [
    "import pandas as pd\n",
    "\n",
    "# Create a Pandas Series that contains the distance of some planets from the Sun.\n",
    "# Use the name of the planets as the index to your Pandas Series, and the distance\n",
    "# from the Sun as your data. The distance from the Sun is in units of 10^6 km\n",
    "\n",
    "distance_from_sun = [149.6, 1433.5, 227.9, 108.2, 778.6]\n",
    "\n",
    "planets = ['Earth','Saturn', 'Mars','Venus', 'Jupiter']\n",
    "\n",
    "# Create a Pandas Series using the above data, with the name of the planets as\n",
    "# the index and the distance from the Sun as your data.\n",
    "dist_planets = pd.Series(data= distance_from_sun, index= planets)\n",
    "\n",
    "# Calculate the number of minutes it takes sunlight to reach each planet. You can\n",
    "# do this by dividing the distance from the Sun for each planet by the speed of light.\n",
    "# Since in the data above the distance from the Sun is in units of 10^6 km, you can\n",
    "# use a value for the speed of light of c = 18, since light travels 18 x 10^6 km/minute.\n",
    "time_light = dist_planets / 18\n",
    "\n",
    "# Use Boolean indexing to select only those planets for which sunlight takes less\n",
    "# than 40 minutes to reach them.\n",
    "close_planets = time_light[time_light<40]\n",
    "print(close_planets)\n"
   ]
  },
  {
   "cell_type": "markdown",
   "metadata": {},
   "source": [
    "### Pandas DataFrame"
   ]
  },
  {
   "cell_type": "code",
   "execution_count": 34,
   "metadata": {},
   "outputs": [
    {
     "name": "stdout",
     "output_type": "stream",
     "text": [
      "<class 'dict'>\n"
     ]
    },
    {
     "data": {
      "text/html": [
       "<div>\n",
       "<style scoped>\n",
       "    .dataframe tbody tr th:only-of-type {\n",
       "        vertical-align: middle;\n",
       "    }\n",
       "\n",
       "    .dataframe tbody tr th {\n",
       "        vertical-align: top;\n",
       "    }\n",
       "\n",
       "    .dataframe thead th {\n",
       "        text-align: right;\n",
       "    }\n",
       "</style>\n",
       "<table border=\"1\" class=\"dataframe\">\n",
       "  <thead>\n",
       "    <tr style=\"text-align: right;\">\n",
       "      <th></th>\n",
       "      <th>Bob</th>\n",
       "      <th>Alice</th>\n",
       "    </tr>\n",
       "  </thead>\n",
       "  <tbody>\n",
       "    <tr>\n",
       "      <th>bike</th>\n",
       "      <td>245.0</td>\n",
       "      <td>500.0</td>\n",
       "    </tr>\n",
       "    <tr>\n",
       "      <th>book</th>\n",
       "      <td>NaN</td>\n",
       "      <td>40.0</td>\n",
       "    </tr>\n",
       "    <tr>\n",
       "      <th>glasses</th>\n",
       "      <td>NaN</td>\n",
       "      <td>110.0</td>\n",
       "    </tr>\n",
       "    <tr>\n",
       "      <th>pants</th>\n",
       "      <td>25.0</td>\n",
       "      <td>45.0</td>\n",
       "    </tr>\n",
       "    <tr>\n",
       "      <th>watch</th>\n",
       "      <td>55.0</td>\n",
       "      <td>NaN</td>\n",
       "    </tr>\n",
       "  </tbody>\n",
       "</table>\n",
       "</div>"
      ],
      "text/plain": [
       "           Bob  Alice\n",
       "bike     245.0  500.0\n",
       "book       NaN   40.0\n",
       "glasses    NaN  110.0\n",
       "pants     25.0   45.0\n",
       "watch     55.0    NaN"
      ]
     },
     "execution_count": 34,
     "metadata": {},
     "output_type": "execute_result"
    }
   ],
   "source": [
    "# We import Pandas as pd into Python\n",
    "import pandas as pd\n",
    "\n",
    "# We create a dictionary of Pandas Series \n",
    "items = {'Bob' : pd.Series(data = [245, 25, 55], index = ['bike', 'pants', 'watch']),\n",
    "         'Alice' : pd.Series(data = [40, 110, 500, 45], index = ['book', 'glasses', 'bike', 'pants'])}\n",
    "\n",
    "# We print the type of items to see that it is a dictionary\n",
    "print(type(items))\n",
    "\n",
    "# We create a Pandas DataFrame by passing it a dictionary of Pandas Series\n",
    "shopping_carts = pd.DataFrame(items)\n",
    "\n",
    "# We display the DataFrame\n",
    "shopping_carts"
   ]
  },
  {
   "cell_type": "code",
   "execution_count": 35,
   "metadata": {},
   "outputs": [
    {
     "data": {
      "text/html": [
       "<div>\n",
       "<style scoped>\n",
       "    .dataframe tbody tr th:only-of-type {\n",
       "        vertical-align: middle;\n",
       "    }\n",
       "\n",
       "    .dataframe tbody tr th {\n",
       "        vertical-align: top;\n",
       "    }\n",
       "\n",
       "    .dataframe thead th {\n",
       "        text-align: right;\n",
       "    }\n",
       "</style>\n",
       "<table border=\"1\" class=\"dataframe\">\n",
       "  <thead>\n",
       "    <tr style=\"text-align: right;\">\n",
       "      <th></th>\n",
       "      <th>Bob</th>\n",
       "      <th>Alice</th>\n",
       "    </tr>\n",
       "  </thead>\n",
       "  <tbody>\n",
       "    <tr>\n",
       "      <th>0</th>\n",
       "      <td>245.0</td>\n",
       "      <td>40</td>\n",
       "    </tr>\n",
       "    <tr>\n",
       "      <th>1</th>\n",
       "      <td>25.0</td>\n",
       "      <td>110</td>\n",
       "    </tr>\n",
       "    <tr>\n",
       "      <th>2</th>\n",
       "      <td>55.0</td>\n",
       "      <td>500</td>\n",
       "    </tr>\n",
       "    <tr>\n",
       "      <th>3</th>\n",
       "      <td>NaN</td>\n",
       "      <td>45</td>\n",
       "    </tr>\n",
       "  </tbody>\n",
       "</table>\n",
       "</div>"
      ],
      "text/plain": [
       "     Bob  Alice\n",
       "0  245.0     40\n",
       "1   25.0    110\n",
       "2   55.0    500\n",
       "3    NaN     45"
      ]
     },
     "execution_count": 35,
     "metadata": {},
     "output_type": "execute_result"
    }
   ],
   "source": [
    "# We create a dictionary of Pandas Series without indexes\n",
    "data = {'Bob' : pd.Series([245, 25, 55]),\n",
    "        'Alice' : pd.Series([40, 110, 500, 45])}\n",
    "\n",
    "# We create a DataFrame\n",
    "df = pd.DataFrame(data)\n",
    "\n",
    "# We display the DataFrame\n",
    "df"
   ]
  },
  {
   "cell_type": "code",
   "execution_count": 36,
   "metadata": {},
   "outputs": [
    {
     "name": "stdout",
     "output_type": "stream",
     "text": [
      "shopping_carts has shape: (5, 2)\n",
      "shopping_carts has dimension: 2\n",
      "shopping_carts has a total of: 10 elements\n",
      "\n",
      "The data in shopping_carts is:\n",
      " [[245. 500.]\n",
      " [ nan  40.]\n",
      " [ nan 110.]\n",
      " [ 25.  45.]\n",
      " [ 55.  nan]]\n",
      "\n",
      "The row index in shopping_carts is: Index(['bike', 'book', 'glasses', 'pants', 'watch'], dtype='object')\n",
      "\n",
      "The column index in shopping_carts is: Index(['Bob', 'Alice'], dtype='object')\n"
     ]
    }
   ],
   "source": [
    "# We print some information about shopping_carts\n",
    "print('shopping_carts has shape:', shopping_carts.shape)\n",
    "print('shopping_carts has dimension:', shopping_carts.ndim)\n",
    "print('shopping_carts has a total of:', shopping_carts.size, 'elements')\n",
    "print()\n",
    "print('The data in shopping_carts is:\\n', shopping_carts.values)\n",
    "print()\n",
    "print('The row index in shopping_carts is:', shopping_carts.index)\n",
    "print()\n",
    "print('The column index in shopping_carts is:', shopping_carts.columns)"
   ]
  },
  {
   "cell_type": "code",
   "execution_count": 45,
   "metadata": {},
   "outputs": [
    {
     "data": {
      "text/html": [
       "<div>\n",
       "<style scoped>\n",
       "    .dataframe tbody tr th:only-of-type {\n",
       "        vertical-align: middle;\n",
       "    }\n",
       "\n",
       "    .dataframe tbody tr th {\n",
       "        vertical-align: top;\n",
       "    }\n",
       "\n",
       "    .dataframe thead th {\n",
       "        text-align: right;\n",
       "    }\n",
       "</style>\n",
       "<table border=\"1\" class=\"dataframe\">\n",
       "  <thead>\n",
       "    <tr style=\"text-align: right;\">\n",
       "      <th></th>\n",
       "      <th>Bob</th>\n",
       "    </tr>\n",
       "  </thead>\n",
       "  <tbody>\n",
       "    <tr>\n",
       "      <th>0</th>\n",
       "      <td>245.0</td>\n",
       "    </tr>\n",
       "    <tr>\n",
       "      <th>1</th>\n",
       "      <td>25.0</td>\n",
       "    </tr>\n",
       "    <tr>\n",
       "      <th>2</th>\n",
       "      <td>55.0</td>\n",
       "    </tr>\n",
       "    <tr>\n",
       "      <th>3</th>\n",
       "      <td>NaN</td>\n",
       "    </tr>\n",
       "  </tbody>\n",
       "</table>\n",
       "</div>"
      ],
      "text/plain": [
       "     Bob\n",
       "0  245.0\n",
       "1   25.0\n",
       "2   55.0\n",
       "3    NaN"
      ]
     },
     "execution_count": 45,
     "metadata": {},
     "output_type": "execute_result"
    }
   ],
   "source": [
    "# We Create a DataFrame that only has Bob's data\n",
    "#bob_shopping_cart = pd.DataFrame(items, columns=['Bob'])\n",
    "#otra manera de hacerlo bob_shopping_cart = df['Bob']\n",
    "bob_shopping_cart = df[['Bob']]\n",
    "# We display bob_shopping_cart\n",
    "bob_shopping_cart"
   ]
  },
  {
   "cell_type": "code",
   "execution_count": 41,
   "metadata": {},
   "outputs": [
    {
     "data": {
      "text/html": [
       "<div>\n",
       "<style scoped>\n",
       "    .dataframe tbody tr th:only-of-type {\n",
       "        vertical-align: middle;\n",
       "    }\n",
       "\n",
       "    .dataframe tbody tr th {\n",
       "        vertical-align: top;\n",
       "    }\n",
       "\n",
       "    .dataframe thead th {\n",
       "        text-align: right;\n",
       "    }\n",
       "</style>\n",
       "<table border=\"1\" class=\"dataframe\">\n",
       "  <thead>\n",
       "    <tr style=\"text-align: right;\">\n",
       "      <th></th>\n",
       "      <th>Bob</th>\n",
       "      <th>Alice</th>\n",
       "    </tr>\n",
       "  </thead>\n",
       "  <tbody>\n",
       "    <tr>\n",
       "      <th>pants</th>\n",
       "      <td>25.0</td>\n",
       "      <td>45</td>\n",
       "    </tr>\n",
       "    <tr>\n",
       "      <th>book</th>\n",
       "      <td>NaN</td>\n",
       "      <td>40</td>\n",
       "    </tr>\n",
       "  </tbody>\n",
       "</table>\n",
       "</div>"
      ],
      "text/plain": [
       "        Bob  Alice\n",
       "pants  25.0     45\n",
       "book    NaN     40"
      ]
     },
     "execution_count": 41,
     "metadata": {},
     "output_type": "execute_result"
    }
   ],
   "source": [
    "# We Create a DataFrame that only has selected items for both Alice and Bob\n",
    "sel_shopping_cart = pd.DataFrame(items, index = ['pants', 'book'])\n",
    "\n",
    "# We display sel_shopping_cart\n",
    "sel_shopping_cart"
   ]
  },
  {
   "cell_type": "code",
   "execution_count": 126,
   "metadata": {},
   "outputs": [
    {
     "name": "stdout",
     "output_type": "stream",
     "text": [
      "\n",
      "How many bikes are in each store:\n",
      "          bikes\n",
      "store 1     20\n",
      "store 2     15\n",
      "\n",
      "How many bikes and pants are in each store:\n",
      "          bikes  pants\n",
      "store 1     20     30\n",
      "store 2     15      5\n",
      "\n",
      "What items are in Store 1:\n",
      "          bikes  glasses  pants  watches\n",
      "store 1     20      NaN     30       35\n",
      "\n",
      "How many bikes are in Store 2: 15\n",
      "<bound method DataFrame.max of          bikes  glasses  pants  watches\n",
      "store 1     20      NaN     30       35\n",
      "store 2     15     50.0      5       10>\n"
     ]
    }
   ],
   "source": [
    "# We print the store_items DataFrame\n",
    "items2 = [{'bikes': 20, 'pants': 30, 'watches': 35}, \n",
    "          {'watches': 10, 'glasses': 50, 'bikes': 15, 'pants':5}]\n",
    "\n",
    "# We create a DataFrame  and provide the row index\n",
    "store_items = pd.DataFrame(items2, index = ['store 1', 'store 2'])\n",
    "\n",
    "store_items\n",
    "# We access rows, columns and elements using labels\n",
    "print()\n",
    "print('How many bikes are in each store:\\n', store_items[['bikes']])\n",
    "print()\n",
    "print('How many bikes and pants are in each store:\\n', store_items[['bikes', 'pants']])\n",
    "print()\n",
    "print('What items are in Store 1:\\n', store_items.loc[['store 1']])\n",
    "print()\n",
    "print('How many bikes are in Store 2:', store_items['bikes']['store 2'])"
   ]
  },
  {
   "cell_type": "code",
   "execution_count": 67,
   "metadata": {},
   "outputs": [
    {
     "data": {
      "text/html": [
       "<div>\n",
       "<style scoped>\n",
       "    .dataframe tbody tr th:only-of-type {\n",
       "        vertical-align: middle;\n",
       "    }\n",
       "\n",
       "    .dataframe tbody tr th {\n",
       "        vertical-align: top;\n",
       "    }\n",
       "\n",
       "    .dataframe thead th {\n",
       "        text-align: right;\n",
       "    }\n",
       "</style>\n",
       "<table border=\"1\" class=\"dataframe\">\n",
       "  <thead>\n",
       "    <tr style=\"text-align: right;\">\n",
       "      <th></th>\n",
       "      <th>bikes</th>\n",
       "      <th>glasses</th>\n",
       "      <th>pants</th>\n",
       "      <th>watches</th>\n",
       "      <th>shirts</th>\n",
       "    </tr>\n",
       "  </thead>\n",
       "  <tbody>\n",
       "    <tr>\n",
       "      <th>store 1</th>\n",
       "      <td>20</td>\n",
       "      <td>NaN</td>\n",
       "      <td>30</td>\n",
       "      <td>35</td>\n",
       "      <td>15</td>\n",
       "    </tr>\n",
       "    <tr>\n",
       "      <th>store 2</th>\n",
       "      <td>15</td>\n",
       "      <td>50.0</td>\n",
       "      <td>5</td>\n",
       "      <td>10</td>\n",
       "      <td>2</td>\n",
       "    </tr>\n",
       "  </tbody>\n",
       "</table>\n",
       "</div>"
      ],
      "text/plain": [
       "         bikes  glasses  pants  watches  shirts\n",
       "store 1     20      NaN     30       35      15\n",
       "store 2     15     50.0      5       10       2"
      ]
     },
     "execution_count": 67,
     "metadata": {},
     "output_type": "execute_result"
    }
   ],
   "source": [
    "# We add a new column named shirts to our store_items DataFrame indicating the number of\n",
    "# shirts in stock at each store. We will put 15 shirts in store 1 and 2 shirts in store 2\n",
    "store_items['shirts'] = [15,2]\n",
    "\n",
    "# We display the modified DataFrame\n",
    "store_items"
   ]
  },
  {
   "cell_type": "code",
   "execution_count": 68,
   "metadata": {},
   "outputs": [
    {
     "data": {
      "text/html": [
       "<div>\n",
       "<style scoped>\n",
       "    .dataframe tbody tr th:only-of-type {\n",
       "        vertical-align: middle;\n",
       "    }\n",
       "\n",
       "    .dataframe tbody tr th {\n",
       "        vertical-align: top;\n",
       "    }\n",
       "\n",
       "    .dataframe thead th {\n",
       "        text-align: right;\n",
       "    }\n",
       "</style>\n",
       "<table border=\"1\" class=\"dataframe\">\n",
       "  <thead>\n",
       "    <tr style=\"text-align: right;\">\n",
       "      <th></th>\n",
       "      <th>bikes</th>\n",
       "      <th>glasses</th>\n",
       "      <th>pants</th>\n",
       "      <th>watches</th>\n",
       "      <th>shirts</th>\n",
       "      <th>suits</th>\n",
       "    </tr>\n",
       "  </thead>\n",
       "  <tbody>\n",
       "    <tr>\n",
       "      <th>store 1</th>\n",
       "      <td>20</td>\n",
       "      <td>NaN</td>\n",
       "      <td>30</td>\n",
       "      <td>35</td>\n",
       "      <td>15</td>\n",
       "      <td>45</td>\n",
       "    </tr>\n",
       "    <tr>\n",
       "      <th>store 2</th>\n",
       "      <td>15</td>\n",
       "      <td>50.0</td>\n",
       "      <td>5</td>\n",
       "      <td>10</td>\n",
       "      <td>2</td>\n",
       "      <td>7</td>\n",
       "    </tr>\n",
       "  </tbody>\n",
       "</table>\n",
       "</div>"
      ],
      "text/plain": [
       "         bikes  glasses  pants  watches  shirts  suits\n",
       "store 1     20      NaN     30       35      15     45\n",
       "store 2     15     50.0      5       10       2      7"
      ]
     },
     "execution_count": 68,
     "metadata": {},
     "output_type": "execute_result"
    }
   ],
   "source": [
    "# We make a new column called suits by adding the number of shirts and pants\n",
    "store_items['suits'] = store_items['pants'] + store_items['shirts']\n",
    "\n",
    "# We display the modified DataFrame\n",
    "store_items"
   ]
  },
  {
   "cell_type": "code",
   "execution_count": 69,
   "metadata": {},
   "outputs": [
    {
     "data": {
      "text/html": [
       "<div>\n",
       "<style scoped>\n",
       "    .dataframe tbody tr th:only-of-type {\n",
       "        vertical-align: middle;\n",
       "    }\n",
       "\n",
       "    .dataframe tbody tr th {\n",
       "        vertical-align: top;\n",
       "    }\n",
       "\n",
       "    .dataframe thead th {\n",
       "        text-align: right;\n",
       "    }\n",
       "</style>\n",
       "<table border=\"1\" class=\"dataframe\">\n",
       "  <thead>\n",
       "    <tr style=\"text-align: right;\">\n",
       "      <th></th>\n",
       "      <th>bikes</th>\n",
       "      <th>glasses</th>\n",
       "      <th>pants</th>\n",
       "      <th>shirts</th>\n",
       "      <th>suits</th>\n",
       "      <th>watches</th>\n",
       "    </tr>\n",
       "  </thead>\n",
       "  <tbody>\n",
       "    <tr>\n",
       "      <th>store 1</th>\n",
       "      <td>20</td>\n",
       "      <td>NaN</td>\n",
       "      <td>30</td>\n",
       "      <td>15.0</td>\n",
       "      <td>45.0</td>\n",
       "      <td>35</td>\n",
       "    </tr>\n",
       "    <tr>\n",
       "      <th>store 2</th>\n",
       "      <td>15</td>\n",
       "      <td>50.0</td>\n",
       "      <td>5</td>\n",
       "      <td>2.0</td>\n",
       "      <td>7.0</td>\n",
       "      <td>10</td>\n",
       "    </tr>\n",
       "    <tr>\n",
       "      <th>store 3</th>\n",
       "      <td>20</td>\n",
       "      <td>4.0</td>\n",
       "      <td>30</td>\n",
       "      <td>NaN</td>\n",
       "      <td>NaN</td>\n",
       "      <td>35</td>\n",
       "    </tr>\n",
       "  </tbody>\n",
       "</table>\n",
       "</div>"
      ],
      "text/plain": [
       "         bikes  glasses  pants  shirts  suits  watches\n",
       "store 1     20      NaN     30    15.0   45.0       35\n",
       "store 2     15     50.0      5     2.0    7.0       10\n",
       "store 3     20      4.0     30     NaN    NaN       35"
      ]
     },
     "execution_count": 69,
     "metadata": {},
     "output_type": "execute_result"
    }
   ],
   "source": [
    "# We create a dictionary from a list of Python dictionaries that will number of items at the new store\n",
    "new_items = [{'bikes': 20, 'pants': 30, 'watches': 35, 'glasses': 4}]\n",
    "\n",
    "# We create new DataFrame with the new_items and provide and index labeled store 3\n",
    "new_store = pd.DataFrame(new_items, index = ['store 3'])\n",
    "\n",
    "# We display the items at the new store\n",
    "new_store\n",
    "\n",
    "# We append store 3 to our store_items DataFrame\n",
    "store_items = store_items.append(new_store)\n",
    "\n",
    "# We display the modified DataFrame\n",
    "store_items"
   ]
  },
  {
   "cell_type": "code",
   "execution_count": 70,
   "metadata": {},
   "outputs": [
    {
     "data": {
      "text/html": [
       "<div>\n",
       "<style scoped>\n",
       "    .dataframe tbody tr th:only-of-type {\n",
       "        vertical-align: middle;\n",
       "    }\n",
       "\n",
       "    .dataframe tbody tr th {\n",
       "        vertical-align: top;\n",
       "    }\n",
       "\n",
       "    .dataframe thead th {\n",
       "        text-align: right;\n",
       "    }\n",
       "</style>\n",
       "<table border=\"1\" class=\"dataframe\">\n",
       "  <thead>\n",
       "    <tr style=\"text-align: right;\">\n",
       "      <th></th>\n",
       "      <th>bikes</th>\n",
       "      <th>glasses</th>\n",
       "      <th>pants</th>\n",
       "      <th>shirts</th>\n",
       "      <th>suits</th>\n",
       "      <th>watches</th>\n",
       "      <th>new watches</th>\n",
       "    </tr>\n",
       "  </thead>\n",
       "  <tbody>\n",
       "    <tr>\n",
       "      <th>store 1</th>\n",
       "      <td>20</td>\n",
       "      <td>NaN</td>\n",
       "      <td>30</td>\n",
       "      <td>15.0</td>\n",
       "      <td>45.0</td>\n",
       "      <td>35</td>\n",
       "      <td>NaN</td>\n",
       "    </tr>\n",
       "    <tr>\n",
       "      <th>store 2</th>\n",
       "      <td>15</td>\n",
       "      <td>50.0</td>\n",
       "      <td>5</td>\n",
       "      <td>2.0</td>\n",
       "      <td>7.0</td>\n",
       "      <td>10</td>\n",
       "      <td>10.0</td>\n",
       "    </tr>\n",
       "    <tr>\n",
       "      <th>store 3</th>\n",
       "      <td>20</td>\n",
       "      <td>4.0</td>\n",
       "      <td>30</td>\n",
       "      <td>NaN</td>\n",
       "      <td>NaN</td>\n",
       "      <td>35</td>\n",
       "      <td>35.0</td>\n",
       "    </tr>\n",
       "  </tbody>\n",
       "</table>\n",
       "</div>"
      ],
      "text/plain": [
       "         bikes  glasses  pants  shirts  suits  watches  new watches\n",
       "store 1     20      NaN     30    15.0   45.0       35          NaN\n",
       "store 2     15     50.0      5     2.0    7.0       10         10.0\n",
       "store 3     20      4.0     30     NaN    NaN       35         35.0"
      ]
     },
     "execution_count": 70,
     "metadata": {},
     "output_type": "execute_result"
    }
   ],
   "source": [
    "# We add a new column using data from particular rows in the watches column\n",
    "store_items['new watches'] = store_items['watches'][1:]\n",
    "\n",
    "# We display the modified DataFrame\n",
    "store_items"
   ]
  },
  {
   "cell_type": "code",
   "execution_count": 71,
   "metadata": {},
   "outputs": [
    {
     "data": {
      "text/html": [
       "<div>\n",
       "<style scoped>\n",
       "    .dataframe tbody tr th:only-of-type {\n",
       "        vertical-align: middle;\n",
       "    }\n",
       "\n",
       "    .dataframe tbody tr th {\n",
       "        vertical-align: top;\n",
       "    }\n",
       "\n",
       "    .dataframe thead th {\n",
       "        text-align: right;\n",
       "    }\n",
       "</style>\n",
       "<table border=\"1\" class=\"dataframe\">\n",
       "  <thead>\n",
       "    <tr style=\"text-align: right;\">\n",
       "      <th></th>\n",
       "      <th>bikes</th>\n",
       "      <th>glasses</th>\n",
       "      <th>pants</th>\n",
       "      <th>shirts</th>\n",
       "      <th>shoes</th>\n",
       "      <th>suits</th>\n",
       "      <th>watches</th>\n",
       "      <th>new watches</th>\n",
       "    </tr>\n",
       "  </thead>\n",
       "  <tbody>\n",
       "    <tr>\n",
       "      <th>store 1</th>\n",
       "      <td>20</td>\n",
       "      <td>NaN</td>\n",
       "      <td>30</td>\n",
       "      <td>15.0</td>\n",
       "      <td>8</td>\n",
       "      <td>45.0</td>\n",
       "      <td>35</td>\n",
       "      <td>NaN</td>\n",
       "    </tr>\n",
       "    <tr>\n",
       "      <th>store 2</th>\n",
       "      <td>15</td>\n",
       "      <td>50.0</td>\n",
       "      <td>5</td>\n",
       "      <td>2.0</td>\n",
       "      <td>5</td>\n",
       "      <td>7.0</td>\n",
       "      <td>10</td>\n",
       "      <td>10.0</td>\n",
       "    </tr>\n",
       "    <tr>\n",
       "      <th>store 3</th>\n",
       "      <td>20</td>\n",
       "      <td>4.0</td>\n",
       "      <td>30</td>\n",
       "      <td>NaN</td>\n",
       "      <td>0</td>\n",
       "      <td>NaN</td>\n",
       "      <td>35</td>\n",
       "      <td>35.0</td>\n",
       "    </tr>\n",
       "  </tbody>\n",
       "</table>\n",
       "</div>"
      ],
      "text/plain": [
       "         bikes  glasses  pants  shirts  shoes  suits  watches  new watches\n",
       "store 1     20      NaN     30    15.0      8   45.0       35          NaN\n",
       "store 2     15     50.0      5     2.0      5    7.0       10         10.0\n",
       "store 3     20      4.0     30     NaN      0    NaN       35         35.0"
      ]
     },
     "execution_count": 71,
     "metadata": {},
     "output_type": "execute_result"
    }
   ],
   "source": [
    "# We insert a new column with label shoes right before the column with numerical index 4\n",
    "store_items.insert(4, 'shoes', [8,5,0])\n",
    "\n",
    "# we display the modified DataFrame\n",
    "store_items"
   ]
  },
  {
   "cell_type": "code",
   "execution_count": 72,
   "metadata": {},
   "outputs": [
    {
     "data": {
      "text/html": [
       "<div>\n",
       "<style scoped>\n",
       "    .dataframe tbody tr th:only-of-type {\n",
       "        vertical-align: middle;\n",
       "    }\n",
       "\n",
       "    .dataframe tbody tr th {\n",
       "        vertical-align: top;\n",
       "    }\n",
       "\n",
       "    .dataframe thead th {\n",
       "        text-align: right;\n",
       "    }\n",
       "</style>\n",
       "<table border=\"1\" class=\"dataframe\">\n",
       "  <thead>\n",
       "    <tr style=\"text-align: right;\">\n",
       "      <th></th>\n",
       "      <th>bikes</th>\n",
       "      <th>glasses</th>\n",
       "      <th>pants</th>\n",
       "      <th>shirts</th>\n",
       "      <th>shoes</th>\n",
       "      <th>suits</th>\n",
       "      <th>watches</th>\n",
       "    </tr>\n",
       "  </thead>\n",
       "  <tbody>\n",
       "    <tr>\n",
       "      <th>store 1</th>\n",
       "      <td>20</td>\n",
       "      <td>NaN</td>\n",
       "      <td>30</td>\n",
       "      <td>15.0</td>\n",
       "      <td>8</td>\n",
       "      <td>45.0</td>\n",
       "      <td>35</td>\n",
       "    </tr>\n",
       "    <tr>\n",
       "      <th>store 2</th>\n",
       "      <td>15</td>\n",
       "      <td>50.0</td>\n",
       "      <td>5</td>\n",
       "      <td>2.0</td>\n",
       "      <td>5</td>\n",
       "      <td>7.0</td>\n",
       "      <td>10</td>\n",
       "    </tr>\n",
       "    <tr>\n",
       "      <th>store 3</th>\n",
       "      <td>20</td>\n",
       "      <td>4.0</td>\n",
       "      <td>30</td>\n",
       "      <td>NaN</td>\n",
       "      <td>0</td>\n",
       "      <td>NaN</td>\n",
       "      <td>35</td>\n",
       "    </tr>\n",
       "  </tbody>\n",
       "</table>\n",
       "</div>"
      ],
      "text/plain": [
       "         bikes  glasses  pants  shirts  shoes  suits  watches\n",
       "store 1     20      NaN     30    15.0      8   45.0       35\n",
       "store 2     15     50.0      5     2.0      5    7.0       10\n",
       "store 3     20      4.0     30     NaN      0    NaN       35"
      ]
     },
     "execution_count": 72,
     "metadata": {},
     "output_type": "execute_result"
    }
   ],
   "source": [
    "# We remove the new watches column\n",
    "store_items.pop('new watches')\n",
    "\n",
    "# we display the modified DataFrame\n",
    "store_items"
   ]
  },
  {
   "cell_type": "code",
   "execution_count": 73,
   "metadata": {},
   "outputs": [
    {
     "data": {
      "text/html": [
       "<div>\n",
       "<style scoped>\n",
       "    .dataframe tbody tr th:only-of-type {\n",
       "        vertical-align: middle;\n",
       "    }\n",
       "\n",
       "    .dataframe tbody tr th {\n",
       "        vertical-align: top;\n",
       "    }\n",
       "\n",
       "    .dataframe thead th {\n",
       "        text-align: right;\n",
       "    }\n",
       "</style>\n",
       "<table border=\"1\" class=\"dataframe\">\n",
       "  <thead>\n",
       "    <tr style=\"text-align: right;\">\n",
       "      <th></th>\n",
       "      <th>bikes</th>\n",
       "      <th>glasses</th>\n",
       "      <th>pants</th>\n",
       "      <th>shirts</th>\n",
       "      <th>suits</th>\n",
       "    </tr>\n",
       "  </thead>\n",
       "  <tbody>\n",
       "    <tr>\n",
       "      <th>store 3</th>\n",
       "      <td>20</td>\n",
       "      <td>4.0</td>\n",
       "      <td>30</td>\n",
       "      <td>NaN</td>\n",
       "      <td>NaN</td>\n",
       "    </tr>\n",
       "  </tbody>\n",
       "</table>\n",
       "</div>"
      ],
      "text/plain": [
       "         bikes  glasses  pants  shirts  suits\n",
       "store 3     20      4.0     30     NaN    NaN"
      ]
     },
     "execution_count": 73,
     "metadata": {},
     "output_type": "execute_result"
    }
   ],
   "source": [
    "# We remove the watches and shoes columns\n",
    "store_items = store_items.drop(['watches', 'shoes'], axis = 1)\n",
    "\n",
    "# we display the modified DataFrame\n",
    "store_items\n",
    "\n",
    "# We remove the store 2 and store 1 rows\n",
    "store_items = store_items.drop(['store 2', 'store 1'], axis = 0)\n",
    "\n",
    "# we display the modified DataFrame\n",
    "store_items"
   ]
  },
  {
   "cell_type": "markdown",
   "metadata": {},
   "source": [
    "### NaN values"
   ]
  },
  {
   "cell_type": "code",
   "execution_count": 74,
   "metadata": {},
   "outputs": [
    {
     "data": {
      "text/html": [
       "<div>\n",
       "<style scoped>\n",
       "    .dataframe tbody tr th:only-of-type {\n",
       "        vertical-align: middle;\n",
       "    }\n",
       "\n",
       "    .dataframe tbody tr th {\n",
       "        vertical-align: top;\n",
       "    }\n",
       "\n",
       "    .dataframe thead th {\n",
       "        text-align: right;\n",
       "    }\n",
       "</style>\n",
       "<table border=\"1\" class=\"dataframe\">\n",
       "  <thead>\n",
       "    <tr style=\"text-align: right;\">\n",
       "      <th></th>\n",
       "      <th>bikes</th>\n",
       "      <th>glasses</th>\n",
       "      <th>pants</th>\n",
       "      <th>shirts</th>\n",
       "      <th>shoes</th>\n",
       "      <th>suits</th>\n",
       "      <th>watches</th>\n",
       "    </tr>\n",
       "  </thead>\n",
       "  <tbody>\n",
       "    <tr>\n",
       "      <th>store 1</th>\n",
       "      <td>20</td>\n",
       "      <td>NaN</td>\n",
       "      <td>30</td>\n",
       "      <td>15.0</td>\n",
       "      <td>8</td>\n",
       "      <td>45.0</td>\n",
       "      <td>35</td>\n",
       "    </tr>\n",
       "    <tr>\n",
       "      <th>store 2</th>\n",
       "      <td>15</td>\n",
       "      <td>50.0</td>\n",
       "      <td>5</td>\n",
       "      <td>2.0</td>\n",
       "      <td>5</td>\n",
       "      <td>7.0</td>\n",
       "      <td>10</td>\n",
       "    </tr>\n",
       "    <tr>\n",
       "      <th>store 3</th>\n",
       "      <td>20</td>\n",
       "      <td>4.0</td>\n",
       "      <td>30</td>\n",
       "      <td>NaN</td>\n",
       "      <td>10</td>\n",
       "      <td>NaN</td>\n",
       "      <td>35</td>\n",
       "    </tr>\n",
       "  </tbody>\n",
       "</table>\n",
       "</div>"
      ],
      "text/plain": [
       "         bikes  glasses  pants  shirts  shoes  suits  watches\n",
       "store 1     20      NaN     30    15.0      8   45.0       35\n",
       "store 2     15     50.0      5     2.0      5    7.0       10\n",
       "store 3     20      4.0     30     NaN     10    NaN       35"
      ]
     },
     "execution_count": 74,
     "metadata": {},
     "output_type": "execute_result"
    }
   ],
   "source": [
    "# We create a list of Python dictionaries\n",
    "items2 = [{'bikes': 20, 'pants': 30, 'watches': 35, 'shirts': 15, 'shoes':8, 'suits':45},\n",
    "{'watches': 10, 'glasses': 50, 'bikes': 15, 'pants':5, 'shirts': 2, 'shoes':5, 'suits':7},\n",
    "{'bikes': 20, 'pants': 30, 'watches': 35, 'glasses': 4, 'shoes':10}]\n",
    "\n",
    "# We create a DataFrame  and provide the row index\n",
    "store_items = pd.DataFrame(items2, index = ['store 1', 'store 2', 'store 3'])\n",
    "\n",
    "# We display the DataFrame\n",
    "store_items"
   ]
  },
  {
   "cell_type": "code",
   "execution_count": 75,
   "metadata": {},
   "outputs": [
    {
     "name": "stdout",
     "output_type": "stream",
     "text": [
      "Number of NaN values in our DataFrame: 3\n"
     ]
    }
   ],
   "source": [
    "# We count the number of NaN values in store_items\n",
    "x =  store_items.isnull().sum().sum()\n",
    "\n",
    "# We print x\n",
    "print('Number of NaN values in our DataFrame:', x)"
   ]
  },
  {
   "cell_type": "code",
   "execution_count": 76,
   "metadata": {},
   "outputs": [
    {
     "data": {
      "text/html": [
       "<div>\n",
       "<style scoped>\n",
       "    .dataframe tbody tr th:only-of-type {\n",
       "        vertical-align: middle;\n",
       "    }\n",
       "\n",
       "    .dataframe tbody tr th {\n",
       "        vertical-align: top;\n",
       "    }\n",
       "\n",
       "    .dataframe thead th {\n",
       "        text-align: right;\n",
       "    }\n",
       "</style>\n",
       "<table border=\"1\" class=\"dataframe\">\n",
       "  <thead>\n",
       "    <tr style=\"text-align: right;\">\n",
       "      <th></th>\n",
       "      <th>bikes</th>\n",
       "      <th>glasses</th>\n",
       "      <th>pants</th>\n",
       "      <th>shirts</th>\n",
       "      <th>shoes</th>\n",
       "      <th>suits</th>\n",
       "      <th>watches</th>\n",
       "    </tr>\n",
       "  </thead>\n",
       "  <tbody>\n",
       "    <tr>\n",
       "      <th>store 2</th>\n",
       "      <td>15</td>\n",
       "      <td>50.0</td>\n",
       "      <td>5</td>\n",
       "      <td>2.0</td>\n",
       "      <td>5</td>\n",
       "      <td>7.0</td>\n",
       "      <td>10</td>\n",
       "    </tr>\n",
       "  </tbody>\n",
       "</table>\n",
       "</div>"
      ],
      "text/plain": [
       "         bikes  glasses  pants  shirts  shoes  suits  watches\n",
       "store 2     15     50.0      5     2.0      5    7.0       10"
      ]
     },
     "execution_count": 76,
     "metadata": {},
     "output_type": "execute_result"
    }
   ],
   "source": [
    "# We drop any rows with NaN values\n",
    "store_items.dropna(axis = 0)"
   ]
  },
  {
   "cell_type": "code",
   "execution_count": 77,
   "metadata": {},
   "outputs": [
    {
     "data": {
      "text/html": [
       "<div>\n",
       "<style scoped>\n",
       "    .dataframe tbody tr th:only-of-type {\n",
       "        vertical-align: middle;\n",
       "    }\n",
       "\n",
       "    .dataframe tbody tr th {\n",
       "        vertical-align: top;\n",
       "    }\n",
       "\n",
       "    .dataframe thead th {\n",
       "        text-align: right;\n",
       "    }\n",
       "</style>\n",
       "<table border=\"1\" class=\"dataframe\">\n",
       "  <thead>\n",
       "    <tr style=\"text-align: right;\">\n",
       "      <th></th>\n",
       "      <th>bikes</th>\n",
       "      <th>pants</th>\n",
       "      <th>shoes</th>\n",
       "      <th>watches</th>\n",
       "    </tr>\n",
       "  </thead>\n",
       "  <tbody>\n",
       "    <tr>\n",
       "      <th>store 1</th>\n",
       "      <td>20</td>\n",
       "      <td>30</td>\n",
       "      <td>8</td>\n",
       "      <td>35</td>\n",
       "    </tr>\n",
       "    <tr>\n",
       "      <th>store 2</th>\n",
       "      <td>15</td>\n",
       "      <td>5</td>\n",
       "      <td>5</td>\n",
       "      <td>10</td>\n",
       "    </tr>\n",
       "    <tr>\n",
       "      <th>store 3</th>\n",
       "      <td>20</td>\n",
       "      <td>30</td>\n",
       "      <td>10</td>\n",
       "      <td>35</td>\n",
       "    </tr>\n",
       "  </tbody>\n",
       "</table>\n",
       "</div>"
      ],
      "text/plain": [
       "         bikes  pants  shoes  watches\n",
       "store 1     20     30      8       35\n",
       "store 2     15      5      5       10\n",
       "store 3     20     30     10       35"
      ]
     },
     "execution_count": 77,
     "metadata": {},
     "output_type": "execute_result"
    }
   ],
   "source": [
    "# We drop any columns with NaN values\n",
    "store_items.dropna(axis = 1)"
   ]
  },
  {
   "cell_type": "code",
   "execution_count": 78,
   "metadata": {},
   "outputs": [
    {
     "data": {
      "text/html": [
       "<div>\n",
       "<style scoped>\n",
       "    .dataframe tbody tr th:only-of-type {\n",
       "        vertical-align: middle;\n",
       "    }\n",
       "\n",
       "    .dataframe tbody tr th {\n",
       "        vertical-align: top;\n",
       "    }\n",
       "\n",
       "    .dataframe thead th {\n",
       "        text-align: right;\n",
       "    }\n",
       "</style>\n",
       "<table border=\"1\" class=\"dataframe\">\n",
       "  <thead>\n",
       "    <tr style=\"text-align: right;\">\n",
       "      <th></th>\n",
       "      <th>bikes</th>\n",
       "      <th>glasses</th>\n",
       "      <th>pants</th>\n",
       "      <th>shirts</th>\n",
       "      <th>shoes</th>\n",
       "      <th>suits</th>\n",
       "      <th>watches</th>\n",
       "    </tr>\n",
       "  </thead>\n",
       "  <tbody>\n",
       "    <tr>\n",
       "      <th>store 1</th>\n",
       "      <td>20</td>\n",
       "      <td>0.0</td>\n",
       "      <td>30</td>\n",
       "      <td>15.0</td>\n",
       "      <td>8</td>\n",
       "      <td>45.0</td>\n",
       "      <td>35</td>\n",
       "    </tr>\n",
       "    <tr>\n",
       "      <th>store 2</th>\n",
       "      <td>15</td>\n",
       "      <td>50.0</td>\n",
       "      <td>5</td>\n",
       "      <td>2.0</td>\n",
       "      <td>5</td>\n",
       "      <td>7.0</td>\n",
       "      <td>10</td>\n",
       "    </tr>\n",
       "    <tr>\n",
       "      <th>store 3</th>\n",
       "      <td>20</td>\n",
       "      <td>4.0</td>\n",
       "      <td>30</td>\n",
       "      <td>0.0</td>\n",
       "      <td>10</td>\n",
       "      <td>0.0</td>\n",
       "      <td>35</td>\n",
       "    </tr>\n",
       "  </tbody>\n",
       "</table>\n",
       "</div>"
      ],
      "text/plain": [
       "         bikes  glasses  pants  shirts  shoes  suits  watches\n",
       "store 1     20      0.0     30    15.0      8   45.0       35\n",
       "store 2     15     50.0      5     2.0      5    7.0       10\n",
       "store 3     20      4.0     30     0.0     10    0.0       35"
      ]
     },
     "execution_count": 78,
     "metadata": {},
     "output_type": "execute_result"
    }
   ],
   "source": [
    "# We replace all NaN values with 0\n",
    "store_items.fillna(0)"
   ]
  },
  {
   "cell_type": "code",
   "execution_count": 79,
   "metadata": {},
   "outputs": [
    {
     "data": {
      "text/html": [
       "<div>\n",
       "<style scoped>\n",
       "    .dataframe tbody tr th:only-of-type {\n",
       "        vertical-align: middle;\n",
       "    }\n",
       "\n",
       "    .dataframe tbody tr th {\n",
       "        vertical-align: top;\n",
       "    }\n",
       "\n",
       "    .dataframe thead th {\n",
       "        text-align: right;\n",
       "    }\n",
       "</style>\n",
       "<table border=\"1\" class=\"dataframe\">\n",
       "  <thead>\n",
       "    <tr style=\"text-align: right;\">\n",
       "      <th></th>\n",
       "      <th>bikes</th>\n",
       "      <th>glasses</th>\n",
       "      <th>pants</th>\n",
       "      <th>shirts</th>\n",
       "      <th>shoes</th>\n",
       "      <th>suits</th>\n",
       "      <th>watches</th>\n",
       "    </tr>\n",
       "  </thead>\n",
       "  <tbody>\n",
       "    <tr>\n",
       "      <th>store 1</th>\n",
       "      <td>20</td>\n",
       "      <td>NaN</td>\n",
       "      <td>30</td>\n",
       "      <td>15.0</td>\n",
       "      <td>8</td>\n",
       "      <td>45.0</td>\n",
       "      <td>35</td>\n",
       "    </tr>\n",
       "    <tr>\n",
       "      <th>store 2</th>\n",
       "      <td>15</td>\n",
       "      <td>50.0</td>\n",
       "      <td>5</td>\n",
       "      <td>2.0</td>\n",
       "      <td>5</td>\n",
       "      <td>7.0</td>\n",
       "      <td>10</td>\n",
       "    </tr>\n",
       "    <tr>\n",
       "      <th>store 3</th>\n",
       "      <td>20</td>\n",
       "      <td>4.0</td>\n",
       "      <td>30</td>\n",
       "      <td>2.0</td>\n",
       "      <td>10</td>\n",
       "      <td>7.0</td>\n",
       "      <td>35</td>\n",
       "    </tr>\n",
       "  </tbody>\n",
       "</table>\n",
       "</div>"
      ],
      "text/plain": [
       "         bikes  glasses  pants  shirts  shoes  suits  watches\n",
       "store 1     20      NaN     30    15.0      8   45.0       35\n",
       "store 2     15     50.0      5     2.0      5    7.0       10\n",
       "store 3     20      4.0     30     2.0     10    7.0       35"
      ]
     },
     "execution_count": 79,
     "metadata": {},
     "output_type": "execute_result"
    }
   ],
   "source": [
    "# We replace NaN values with the previous value in the column\n",
    "store_items.fillna(method = 'ffill', axis = 0)"
   ]
  },
  {
   "cell_type": "code",
   "execution_count": 80,
   "metadata": {},
   "outputs": [
    {
     "data": {
      "text/html": [
       "<div>\n",
       "<style scoped>\n",
       "    .dataframe tbody tr th:only-of-type {\n",
       "        vertical-align: middle;\n",
       "    }\n",
       "\n",
       "    .dataframe tbody tr th {\n",
       "        vertical-align: top;\n",
       "    }\n",
       "\n",
       "    .dataframe thead th {\n",
       "        text-align: right;\n",
       "    }\n",
       "</style>\n",
       "<table border=\"1\" class=\"dataframe\">\n",
       "  <thead>\n",
       "    <tr style=\"text-align: right;\">\n",
       "      <th></th>\n",
       "      <th>bikes</th>\n",
       "      <th>glasses</th>\n",
       "      <th>pants</th>\n",
       "      <th>shirts</th>\n",
       "      <th>shoes</th>\n",
       "      <th>suits</th>\n",
       "      <th>watches</th>\n",
       "    </tr>\n",
       "  </thead>\n",
       "  <tbody>\n",
       "    <tr>\n",
       "      <th>store 1</th>\n",
       "      <td>20.0</td>\n",
       "      <td>20.0</td>\n",
       "      <td>30.0</td>\n",
       "      <td>15.0</td>\n",
       "      <td>8.0</td>\n",
       "      <td>45.0</td>\n",
       "      <td>35.0</td>\n",
       "    </tr>\n",
       "    <tr>\n",
       "      <th>store 2</th>\n",
       "      <td>15.0</td>\n",
       "      <td>50.0</td>\n",
       "      <td>5.0</td>\n",
       "      <td>2.0</td>\n",
       "      <td>5.0</td>\n",
       "      <td>7.0</td>\n",
       "      <td>10.0</td>\n",
       "    </tr>\n",
       "    <tr>\n",
       "      <th>store 3</th>\n",
       "      <td>20.0</td>\n",
       "      <td>4.0</td>\n",
       "      <td>30.0</td>\n",
       "      <td>30.0</td>\n",
       "      <td>10.0</td>\n",
       "      <td>10.0</td>\n",
       "      <td>35.0</td>\n",
       "    </tr>\n",
       "  </tbody>\n",
       "</table>\n",
       "</div>"
      ],
      "text/plain": [
       "         bikes  glasses  pants  shirts  shoes  suits  watches\n",
       "store 1   20.0     20.0   30.0    15.0    8.0   45.0     35.0\n",
       "store 2   15.0     50.0    5.0     2.0    5.0    7.0     10.0\n",
       "store 3   20.0      4.0   30.0    30.0   10.0   10.0     35.0"
      ]
     },
     "execution_count": 80,
     "metadata": {},
     "output_type": "execute_result"
    }
   ],
   "source": [
    "# We replace NaN values with the previous value in the row\n",
    "store_items.fillna(method = 'ffill', axis = 1)"
   ]
  },
  {
   "cell_type": "code",
   "execution_count": null,
   "metadata": {},
   "outputs": [],
   "source": [
    "# We replace NaN values with the next value in the column\n",
    "store_items.fillna(method = 'backfill', axis = 0)"
   ]
  },
  {
   "cell_type": "code",
   "execution_count": 81,
   "metadata": {},
   "outputs": [
    {
     "data": {
      "text/html": [
       "<div>\n",
       "<style scoped>\n",
       "    .dataframe tbody tr th:only-of-type {\n",
       "        vertical-align: middle;\n",
       "    }\n",
       "\n",
       "    .dataframe tbody tr th {\n",
       "        vertical-align: top;\n",
       "    }\n",
       "\n",
       "    .dataframe thead th {\n",
       "        text-align: right;\n",
       "    }\n",
       "</style>\n",
       "<table border=\"1\" class=\"dataframe\">\n",
       "  <thead>\n",
       "    <tr style=\"text-align: right;\">\n",
       "      <th></th>\n",
       "      <th>bikes</th>\n",
       "      <th>glasses</th>\n",
       "      <th>pants</th>\n",
       "      <th>shirts</th>\n",
       "      <th>shoes</th>\n",
       "      <th>suits</th>\n",
       "      <th>watches</th>\n",
       "    </tr>\n",
       "  </thead>\n",
       "  <tbody>\n",
       "    <tr>\n",
       "      <th>store 1</th>\n",
       "      <td>20.0</td>\n",
       "      <td>30.0</td>\n",
       "      <td>30.0</td>\n",
       "      <td>15.0</td>\n",
       "      <td>8.0</td>\n",
       "      <td>45.0</td>\n",
       "      <td>35.0</td>\n",
       "    </tr>\n",
       "    <tr>\n",
       "      <th>store 2</th>\n",
       "      <td>15.0</td>\n",
       "      <td>50.0</td>\n",
       "      <td>5.0</td>\n",
       "      <td>2.0</td>\n",
       "      <td>5.0</td>\n",
       "      <td>7.0</td>\n",
       "      <td>10.0</td>\n",
       "    </tr>\n",
       "    <tr>\n",
       "      <th>store 3</th>\n",
       "      <td>20.0</td>\n",
       "      <td>4.0</td>\n",
       "      <td>30.0</td>\n",
       "      <td>10.0</td>\n",
       "      <td>10.0</td>\n",
       "      <td>35.0</td>\n",
       "      <td>35.0</td>\n",
       "    </tr>\n",
       "  </tbody>\n",
       "</table>\n",
       "</div>"
      ],
      "text/plain": [
       "         bikes  glasses  pants  shirts  shoes  suits  watches\n",
       "store 1   20.0     30.0   30.0    15.0    8.0   45.0     35.0\n",
       "store 2   15.0     50.0    5.0     2.0    5.0    7.0     10.0\n",
       "store 3   20.0      4.0   30.0    10.0   10.0   35.0     35.0"
      ]
     },
     "execution_count": 81,
     "metadata": {},
     "output_type": "execute_result"
    }
   ],
   "source": [
    "# We replace NaN values with the next value in the row\n",
    "store_items.fillna(method = 'backfill', axis = 1)"
   ]
  },
  {
   "cell_type": "code",
   "execution_count": 82,
   "metadata": {},
   "outputs": [
    {
     "data": {
      "text/html": [
       "<div>\n",
       "<style scoped>\n",
       "    .dataframe tbody tr th:only-of-type {\n",
       "        vertical-align: middle;\n",
       "    }\n",
       "\n",
       "    .dataframe tbody tr th {\n",
       "        vertical-align: top;\n",
       "    }\n",
       "\n",
       "    .dataframe thead th {\n",
       "        text-align: right;\n",
       "    }\n",
       "</style>\n",
       "<table border=\"1\" class=\"dataframe\">\n",
       "  <thead>\n",
       "    <tr style=\"text-align: right;\">\n",
       "      <th></th>\n",
       "      <th>bikes</th>\n",
       "      <th>glasses</th>\n",
       "      <th>pants</th>\n",
       "      <th>shirts</th>\n",
       "      <th>shoes</th>\n",
       "      <th>suits</th>\n",
       "      <th>watches</th>\n",
       "    </tr>\n",
       "  </thead>\n",
       "  <tbody>\n",
       "    <tr>\n",
       "      <th>store 1</th>\n",
       "      <td>20</td>\n",
       "      <td>NaN</td>\n",
       "      <td>30</td>\n",
       "      <td>15.0</td>\n",
       "      <td>8</td>\n",
       "      <td>45.0</td>\n",
       "      <td>35</td>\n",
       "    </tr>\n",
       "    <tr>\n",
       "      <th>store 2</th>\n",
       "      <td>15</td>\n",
       "      <td>50.0</td>\n",
       "      <td>5</td>\n",
       "      <td>2.0</td>\n",
       "      <td>5</td>\n",
       "      <td>7.0</td>\n",
       "      <td>10</td>\n",
       "    </tr>\n",
       "    <tr>\n",
       "      <th>store 3</th>\n",
       "      <td>20</td>\n",
       "      <td>4.0</td>\n",
       "      <td>30</td>\n",
       "      <td>2.0</td>\n",
       "      <td>10</td>\n",
       "      <td>7.0</td>\n",
       "      <td>35</td>\n",
       "    </tr>\n",
       "  </tbody>\n",
       "</table>\n",
       "</div>"
      ],
      "text/plain": [
       "         bikes  glasses  pants  shirts  shoes  suits  watches\n",
       "store 1     20      NaN     30    15.0      8   45.0       35\n",
       "store 2     15     50.0      5     2.0      5    7.0       10\n",
       "store 3     20      4.0     30     2.0     10    7.0       35"
      ]
     },
     "execution_count": 82,
     "metadata": {},
     "output_type": "execute_result"
    }
   ],
   "source": [
    "# We replace NaN values by using linear interpolation using column values\n",
    "store_items.interpolate(method = 'linear', axis = 0)"
   ]
  },
  {
   "cell_type": "code",
   "execution_count": null,
   "metadata": {},
   "outputs": [],
   "source": [
    "# We replace NaN values by using linear interpolation using row values\n",
    "store_items.interpolate(method = 'linear', axis = 1)"
   ]
  },
  {
   "cell_type": "markdown",
   "metadata": {},
   "source": [
    "### Ejercicio"
   ]
  },
  {
   "cell_type": "code",
   "execution_count": 110,
   "metadata": {},
   "outputs": [
    {
     "data": {
      "text/html": [
       "<div>\n",
       "<style scoped>\n",
       "    .dataframe tbody tr th:only-of-type {\n",
       "        vertical-align: middle;\n",
       "    }\n",
       "\n",
       "    .dataframe tbody tr th {\n",
       "        vertical-align: top;\n",
       "    }\n",
       "\n",
       "    .dataframe thead th {\n",
       "        text-align: right;\n",
       "    }\n",
       "</style>\n",
       "<table border=\"1\" class=\"dataframe\">\n",
       "  <thead>\n",
       "    <tr style=\"text-align: right;\">\n",
       "      <th></th>\n",
       "      <th>Book Title</th>\n",
       "      <th>Author</th>\n",
       "      <th>User 1</th>\n",
       "      <th>User 2</th>\n",
       "      <th>User 3</th>\n",
       "      <th>User 4</th>\n",
       "    </tr>\n",
       "  </thead>\n",
       "  <tbody>\n",
       "    <tr>\n",
       "      <th>0</th>\n",
       "      <td>Great Expectations</td>\n",
       "      <td>Charles Dickens</td>\n",
       "      <td>3.2</td>\n",
       "      <td>5.0</td>\n",
       "      <td>2.0</td>\n",
       "      <td>4.0</td>\n",
       "    </tr>\n",
       "    <tr>\n",
       "      <th>1</th>\n",
       "      <td>Of Mice and Men</td>\n",
       "      <td>John Steinbeck</td>\n",
       "      <td>2.9</td>\n",
       "      <td>1.3</td>\n",
       "      <td>2.3</td>\n",
       "      <td>3.5</td>\n",
       "    </tr>\n",
       "    <tr>\n",
       "      <th>2</th>\n",
       "      <td>Romeo and Juliet</td>\n",
       "      <td>William Shakespeare</td>\n",
       "      <td>2.5</td>\n",
       "      <td>4.0</td>\n",
       "      <td>2.8</td>\n",
       "      <td>4.0</td>\n",
       "    </tr>\n",
       "    <tr>\n",
       "      <th>3</th>\n",
       "      <td>The Time Machine</td>\n",
       "      <td>H. G. Wells</td>\n",
       "      <td>2.9</td>\n",
       "      <td>3.8</td>\n",
       "      <td>4.0</td>\n",
       "      <td>5.0</td>\n",
       "    </tr>\n",
       "    <tr>\n",
       "      <th>4</th>\n",
       "      <td>Alice in Wonderland</td>\n",
       "      <td>Lewis Carroll</td>\n",
       "      <td>2.9</td>\n",
       "      <td>3.5</td>\n",
       "      <td>2.8</td>\n",
       "      <td>4.2</td>\n",
       "    </tr>\n",
       "  </tbody>\n",
       "</table>\n",
       "</div>"
      ],
      "text/plain": [
       "            Book Title               Author  User 1  User 2  User 3  User 4\n",
       "0   Great Expectations      Charles Dickens     3.2     5.0     2.0     4.0\n",
       "1      Of Mice and Men       John Steinbeck     2.9     1.3     2.3     3.5\n",
       "2     Romeo and Juliet  William Shakespeare     2.5     4.0     2.8     4.0\n",
       "3     The Time Machine          H. G. Wells     2.9     3.8     4.0     5.0\n",
       "4  Alice in Wonderland        Lewis Carroll     2.9     3.5     2.8     4.2"
      ]
     },
     "execution_count": 110,
     "metadata": {},
     "output_type": "execute_result"
    }
   ],
   "source": [
    "import pandas as pd\n",
    "import numpy as np\n",
    "\n",
    "# Since we will be working with ratings, we will set the precision of our \n",
    "# dataframes to one decimal place.\n",
    "pd.set_option('precision', 1)\n",
    "\n",
    "# Create a Pandas DataFrame that contains the ratings some users have given to a\n",
    "# series of books. The ratings given are in the range from 1 to 5, with 5 being\n",
    "# the best score. The names of the books, the authors, and the ratings of each user\n",
    "# are given below:\n",
    "\n",
    "books = pd.Series(data = ['Great Expectations', 'Of Mice and Men', 'Romeo and Juliet', 'The Time Machine', 'Alice in Wonderland' ])\n",
    "authors = pd.Series(data = ['Charles Dickens', 'John Steinbeck', 'William Shakespeare', ' H. G. Wells', 'Lewis Carroll' ])\n",
    "\n",
    "user_1 = pd.Series(data = [3.2, np.nan ,2.5])\n",
    "user_2 = pd.Series(data = [5., 1.3, 4.0, 3.8])\n",
    "user_3 = pd.Series(data = [2.0, 2.3, np.nan, 4])\n",
    "user_4 = pd.Series(data = [4, 3.5, 4, 5, 4.2])\n",
    "\n",
    "# Users that have np.nan values means that the user has not yet rated that book.\n",
    "# Use the data above to create a Pandas DataFrame that has the following column\n",
    "# labels: 'Author', 'Book Title', 'User 1', 'User 2', 'User 3', 'User 4'. Let Pandas\n",
    "# automatically assign numerical row indices to the DataFrame. \n",
    "\n",
    "# Create a dictionary with the data given above\n",
    "dat = {'Book Title' : books,\n",
    "       'Author' : authors,\n",
    "       'User 1' : user_1,\n",
    "       'User 2' : user_2,\n",
    "       'User 3' : user_3,\n",
    "       'User 4' : user_4}\n",
    "       \n",
    "# Use the dictionary to create a Pandas DataFrame\n",
    "book_ratings = pd.DataFrame(dat)\n",
    "\n",
    "\n",
    "# If you created the dictionary correctly you should have a Pandas DataFrame\n",
    "# that has column labels: 'Author', 'Book Title', 'User 1', 'User 2', 'User 3',\n",
    "# 'User 4' and row indices 0 through 4.\n",
    "\n",
    "# Now replace all the NaN values in your DataFrame with the average rating in\n",
    "# each column. Replace the NaN values in place. HINT: you can use the fillna()\n",
    "# function with the keyword inplace = True, to do this. Write your code below:\n",
    "book_ratings.fillna(book_ratings.mean(), inplace=True)"
   ]
  },
  {
   "cell_type": "code",
   "execution_count": 113,
   "metadata": {},
   "outputs": [
    {
     "name": "stdout",
     "output_type": "stream",
     "text": [
      "['Great Expectations' 'The Time Machine']\n"
     ]
    }
   ],
   "source": [
    "#From the DataFrame above you can now pick all the books that had a rating of 5. \n",
    "#You can do this in just one line of code. Try to do it yourself first, you'll find the answer below:\n",
    "\n",
    "best_rated = book_ratings[(book_ratings == 5).any(axis = 1)]['Book Title'].values\n",
    "print(best_rated)"
   ]
  }
 ],
 "metadata": {
  "kernelspec": {
   "display_name": "Python 3",
   "language": "python",
   "name": "python3"
  },
  "language_info": {
   "codemirror_mode": {
    "name": "ipython",
    "version": 3
   },
   "file_extension": ".py",
   "mimetype": "text/x-python",
   "name": "python",
   "nbconvert_exporter": "python",
   "pygments_lexer": "ipython3",
   "version": "3.7.3"
  }
 },
 "nbformat": 4,
 "nbformat_minor": 2
}
